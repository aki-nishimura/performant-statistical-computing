{
 "cells": [
  {
   "cell_type": "code",
   "execution_count": null,
   "metadata": {},
   "outputs": [],
   "source": [
    "import numpy as np\n",
    "import matplotlib.pyplot as plt"
   ]
  },
  {
   "cell_type": "code",
   "execution_count": null,
   "metadata": {},
   "outputs": [],
   "source": [
    "plt.figure(figsize=(6, 4))\n",
    "\n",
    "plt.rcParams['font.size'] = 16\n",
    "np.random.seed(12345678) # \n",
    "\n",
    "n_pts = 50\n",
    "log_size_mean = -.75\n",
    "log_norm_scale = 1.25\n",
    "log_size = log_size_mean + log_norm_scale * np.random.randn(n_pts)\n",
    "size = 10 ** log_size\n",
    "\n",
    "reg_coef = 1.\n",
    "log_noise_scale = .75\n",
    "log_complexity = reg_coef * log_size + log_noise_scale * np.random.randn(n_pts)\n",
    "additive_intercept = .1\n",
    "complexity = 10 ** log_complexity \n",
    "complexity += additive_intercept\n",
    "\n",
    "n_add_pts = 5\n",
    "size = np.concatenate((\n",
    "    size, \n",
    "    10 ** (-2 + .5 * np.random.randn(n_add_pts))\n",
    "))\n",
    "complexity = np.concatenate((\n",
    "    complexity,\n",
    "    10 ** (-.1 + .5 * np.random.randn(n_add_pts))\n",
    "))\n",
    "\n",
    "\n",
    "plt.semilogx(size, np.log10(complexity), 'x', ms=6.5)\n",
    "plt.xlabel('Data size (GB)')\n",
    "plt.ylabel('Complexity')\n",
    "plt.yticks([], minor=False)\n",
    "\n",
    "ax = plt.gca()\n",
    "for side in ['right', 'top']:\n",
    "    ax.spines[side].set_visible(False)\n",
    "    ax.spines[side].set_position((\"data\", 0))\n",
    "ax.tick_params(which='minor', length=4)\n",
    "    \n",
    "plt.xlim(left = 10 ** -2.9)\n",
    "plt.ylim(bottom = - 1.15)\n",
    "    # `x/ylim` don't work well without manually setting the lower lim\n",
    "ax.plot(\n",
    "    1, plt.ylim()[0], \n",
    "    \">k\", ms=9, zorder=4,\n",
    "    transform=ax.get_yaxis_transform(), \n",
    "    clip_on=False\n",
    ")\n",
    "ax.plot(\n",
    "    plt.xlim()[0], 1, \n",
    "    \"^k\", ms=9, zorder=4,\n",
    "    transform=ax.get_xaxis_transform(), \n",
    "    clip_on=False\n",
    ")\n",
    "\n",
    "plt.savefig(\n",
    "    'data_size_vs_complexity.png',\n",
    "    dpi=300,\n",
    "    bbox_inches='tight',\n",
    "    pad_inches=0.\n",
    ")"
   ]
  }
 ],
 "metadata": {
  "kernelspec": {
   "display_name": "Python 3",
   "language": "python",
   "name": "python3"
  },
  "language_info": {
   "codemirror_mode": {
    "name": "ipython",
    "version": 3
   },
   "file_extension": ".py",
   "mimetype": "text/x-python",
   "name": "python",
   "nbconvert_exporter": "python",
   "pygments_lexer": "ipython3",
   "version": "3.8.3"
  }
 },
 "nbformat": 4,
 "nbformat_minor": 4
}
